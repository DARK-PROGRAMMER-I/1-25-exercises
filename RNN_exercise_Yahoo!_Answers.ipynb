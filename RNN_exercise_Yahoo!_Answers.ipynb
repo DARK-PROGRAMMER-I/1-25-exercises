{
  "cells": [
    {
      "cell_type": "markdown",
      "metadata": {
        "id": "view-in-github",
        "colab_type": "text"
      },
      "source": [
        "<a href=\"https://colab.research.google.com/github/DARK-PROGRAMMER-I/1-25-exercises/blob/main/RNN_exercise_Yahoo!_Answers.ipynb\" target=\"_parent\"><img src=\"https://colab.research.google.com/assets/colab-badge.svg\" alt=\"Open In Colab\"/></a>"
      ]
    },
    {
      "cell_type": "markdown",
      "metadata": {
        "id": "Ds2o8jo0RAah"
      },
      "source": [
        "# RNN Exercise: Yahoo! Answers\n",
        "\n",
        "In this exercise, we will train a character-level RNN language model in order to generate text, training on [a dataset of questions from Yahoo! Answers](https://www.kaggle.com/soumikrakshit/yahoo-answers-dataset), a crowdsourced Q&A platform that was active from May 15, 2006 until May 4, 2021. \n",
        "\n",
        "<img src=\"https://drive.google.com/uc?id=1LG6PUoRMGpF22T2AKsBATZMegP-Dn8es\" width=500/>\n",
        "\n",
        "**Note:** It is recommended to run this exercise in Google Colab with GPU runtime enabled. Use the code below to see if TensorFlow can see the GPU:"
      ]
    },
    {
      "cell_type": "code",
      "execution_count": 1,
      "metadata": {
        "colab": {
          "base_uri": "https://localhost:8080/"
        },
        "id": "bxVhGOPmVoFK",
        "outputId": "8f66ed1c-03b0-472b-e93b-a6cef27b7c7d"
      },
      "outputs": [
        {
          "output_type": "execute_result",
          "data": {
            "text/plain": [
              "[PhysicalDevice(name='/physical_device:GPU:0', device_type='GPU')]"
            ]
          },
          "metadata": {},
          "execution_count": 1
        }
      ],
      "source": [
        "import tensorflow as tf\n",
        "tf.config.list_physical_devices('GPU')"
      ]
    },
    {
      "cell_type": "markdown",
      "metadata": {
        "id": "TaNV9vPGWWx4"
      },
      "source": [
        "If you would like to run locally, you will need to follow the instructions in the [Kaggle API documentation](https://github.com/Kaggle/kaggle-api) to set up the Kaggle API on your local machine."
      ]
    },
    {
      "cell_type": "markdown",
      "metadata": {
        "id": "D8g9Ppo1V79u"
      },
      "source": [
        "## Part 1: Kaggle\n",
        "\n",
        "We will use the Kaggle API to download the data for this problem and save it to disk.\n",
        "\n",
        "**Questions:**\n",
        "1. Create an account on [Kaggle](https://www.kaggle.com/).\n",
        "\n",
        "The following questions assume you are on Google Colab. If running locally, instead follow the instructions on [Kaggle's API documentation](https://github.com/Kaggle/kaggle-api) and create the required folders yourself.\n",
        "2. On Kaggle, go to \"Account > Create API Token\" on the site, to download the API Token file `kaggle.json`.  Upload this file to the Google Colab runtime, move it to the directory `~/.kaggle` and set its permissions using the code below. (CODE FOR QUESTION 2)\n",
        "3. Use the code below (CODE FOR QUESTION 3) to download the dataset to disc using the Kaggle API.\n",
        "4. Unzip the archive file using the code below. (CODE FOR QUESTION 4)"
      ]
    },
    {
      "cell_type": "code",
      "execution_count": 2,
      "metadata": {
        "id": "TJxtgfVenAbY"
      },
      "outputs": [],
      "source": [
        "# CODE FOR QUESTION 2\n",
        "! mkdir -p ~/.kaggle;\n",
        "! cp kaggle.json ~/.kaggle/kaggle.json\n",
        "! chmod 600 ~/.kaggle/kaggle.json"
      ]
    },
    {
      "cell_type": "code",
      "execution_count": 3,
      "metadata": {
        "colab": {
          "base_uri": "https://localhost:8080/"
        },
        "id": "incwwjHVnH7x",
        "outputId": "630446fc-a0af-4202-97da-36dbb8fba8ad"
      },
      "outputs": [
        {
          "output_type": "stream",
          "name": "stdout",
          "text": [
            "Downloading yahoo-answers-dataset.zip to /content\n",
            " 93% 287M/309M [00:02<00:00, 141MB/s]\n",
            "100% 309M/309M [00:02<00:00, 143MB/s]\n"
          ]
        }
      ],
      "source": [
        "# CODE FOR QUESTION 3\n",
        "! kaggle datasets download -d soumikrakshit/yahoo-answers-dataset"
      ]
    },
    {
      "cell_type": "code",
      "execution_count": 4,
      "metadata": {
        "colab": {
          "base_uri": "https://localhost:8080/"
        },
        "id": "QKgh7EpMnKtZ",
        "outputId": "055462d5-8ff4-4294-a4ba-76d88de276b5"
      },
      "outputs": [
        {
          "output_type": "stream",
          "name": "stdout",
          "text": [
            "Archive:  yahoo-answers-dataset.zip\n",
            "  inflating: yahoo_answers_csv/classes.txt  \n",
            "  inflating: yahoo_answers_csv/readme.txt  \n",
            "  inflating: yahoo_answers_csv/test.csv  \n",
            "  inflating: yahoo_answers_csv/train.csv  \n"
          ]
        }
      ],
      "source": [
        "# CODE FOR QUESTION 4\n",
        "! unzip yahoo-answers-dataset.zip"
      ]
    },
    {
      "cell_type": "markdown",
      "metadata": {
        "id": "ptS6BPDtJLsw"
      },
      "source": [
        "## Part 2: EDA and Data Cleaning\n",
        "\n",
        "We will only use the titles of Yahoo! Answers questions from the `train.csv` file in the dataset for this problem, and we will ignore the question body texts, topic labels and the test data in the dataset.\n",
        "\n",
        "**Note:** Whenever we mention questions in the dataset, we mean the titles of questions. We will be ignoring the body text of questions in the dataset.\n",
        "\n",
        "**Questions:**\n",
        "5. Load the question texts from `train.csv` into a Pandas Dataframe `df`. Using the arguments `header=None`, `usecols=...` and `names=...`, make sure to only load the question titles as a single column named `question`, and don't use any of the other columns in the csv file.\n",
        "6. How many questions are in this dataset? How many total characters are in all the question titles together?\n",
        "7. Plot a histogram of the lengths of questions, in characters. What percentage of them are less than 100 characters long? (should be some value greater than 80%)\n",
        "8. How many unique characters are used in the questions in the dataset? (e.g. A, B, C, ...) Print out all of the characters used and briefly explain why the number is so high.\n",
        "9. Add a new column `'cleaned'` to the DataFrame, containing a copy of the questions from the `'questions'` column. Using the Pandas Series `.str.replace(...)` function, erase every character that is not a basic English letter or punctuation symbol (`A-Za-z.,!?@:;'` or a space).\n",
        "6. Add the character `^` to the beginning of every question in `'cleaned'`, and the character `$` to the end of every question in `'cleaned'`. (These \"start-of-string\" and \"end-of-string\" characters will help us for text generation.)\n",
        "7. Calculate the number of unique character that are used in the entries of `df.cleaned`. If your answers to the previous questions were correct, this should equal 63."
      ]
    },
    {
      "cell_type": "code",
      "execution_count": 5,
      "metadata": {
        "id": "hbAJT9WO-VdK"
      },
      "outputs": [],
      "source": [
        "import pandas as pd\n",
        "import numpy as np\n",
        "\n",
        "import matplotlib.pyplot as plt\n"
      ]
    },
    {
      "cell_type": "code",
      "execution_count": 6,
      "metadata": {
        "colab": {
          "base_uri": "https://localhost:8080/",
          "height": 206
        },
        "id": "WtUnCOmY-lVa",
        "outputId": "5641948a-3e6b-4de0-f765-c4a38d5cc31a"
      },
      "outputs": [
        {
          "output_type": "execute_result",
          "data": {
            "text/html": [
              "\n",
              "  <div id=\"df-e5a14d26-8c15-4f86-82e4-a7fee03b131b\">\n",
              "    <div class=\"colab-df-container\">\n",
              "      <div>\n",
              "<style scoped>\n",
              "    .dataframe tbody tr th:only-of-type {\n",
              "        vertical-align: middle;\n",
              "    }\n",
              "\n",
              "    .dataframe tbody tr th {\n",
              "        vertical-align: top;\n",
              "    }\n",
              "\n",
              "    .dataframe thead th {\n",
              "        text-align: right;\n",
              "    }\n",
              "</style>\n",
              "<table border=\"1\" class=\"dataframe\">\n",
              "  <thead>\n",
              "    <tr style=\"text-align: right;\">\n",
              "      <th></th>\n",
              "      <th>questions</th>\n",
              "    </tr>\n",
              "  </thead>\n",
              "  <tbody>\n",
              "    <tr>\n",
              "      <th>0</th>\n",
              "      <td>why doesn't an optical mouse work on a glass t...</td>\n",
              "    </tr>\n",
              "    <tr>\n",
              "      <th>1</th>\n",
              "      <td>What is the best off-road motorcycle trail ?</td>\n",
              "    </tr>\n",
              "    <tr>\n",
              "      <th>2</th>\n",
              "      <td>What is Trans Fat? How to reduce that?</td>\n",
              "    </tr>\n",
              "    <tr>\n",
              "      <th>3</th>\n",
              "      <td>How many planes Fedex has?</td>\n",
              "    </tr>\n",
              "    <tr>\n",
              "      <th>4</th>\n",
              "      <td>In the san francisco bay area, does it make se...</td>\n",
              "    </tr>\n",
              "  </tbody>\n",
              "</table>\n",
              "</div>\n",
              "      <button class=\"colab-df-convert\" onclick=\"convertToInteractive('df-e5a14d26-8c15-4f86-82e4-a7fee03b131b')\"\n",
              "              title=\"Convert this dataframe to an interactive table.\"\n",
              "              style=\"display:none;\">\n",
              "        \n",
              "  <svg xmlns=\"http://www.w3.org/2000/svg\" height=\"24px\"viewBox=\"0 0 24 24\"\n",
              "       width=\"24px\">\n",
              "    <path d=\"M0 0h24v24H0V0z\" fill=\"none\"/>\n",
              "    <path d=\"M18.56 5.44l.94 2.06.94-2.06 2.06-.94-2.06-.94-.94-2.06-.94 2.06-2.06.94zm-11 1L8.5 8.5l.94-2.06 2.06-.94-2.06-.94L8.5 2.5l-.94 2.06-2.06.94zm10 10l.94 2.06.94-2.06 2.06-.94-2.06-.94-.94-2.06-.94 2.06-2.06.94z\"/><path d=\"M17.41 7.96l-1.37-1.37c-.4-.4-.92-.59-1.43-.59-.52 0-1.04.2-1.43.59L10.3 9.45l-7.72 7.72c-.78.78-.78 2.05 0 2.83L4 21.41c.39.39.9.59 1.41.59.51 0 1.02-.2 1.41-.59l7.78-7.78 2.81-2.81c.8-.78.8-2.07 0-2.86zM5.41 20L4 18.59l7.72-7.72 1.47 1.35L5.41 20z\"/>\n",
              "  </svg>\n",
              "      </button>\n",
              "      \n",
              "  <style>\n",
              "    .colab-df-container {\n",
              "      display:flex;\n",
              "      flex-wrap:wrap;\n",
              "      gap: 12px;\n",
              "    }\n",
              "\n",
              "    .colab-df-convert {\n",
              "      background-color: #E8F0FE;\n",
              "      border: none;\n",
              "      border-radius: 50%;\n",
              "      cursor: pointer;\n",
              "      display: none;\n",
              "      fill: #1967D2;\n",
              "      height: 32px;\n",
              "      padding: 0 0 0 0;\n",
              "      width: 32px;\n",
              "    }\n",
              "\n",
              "    .colab-df-convert:hover {\n",
              "      background-color: #E2EBFA;\n",
              "      box-shadow: 0px 1px 2px rgba(60, 64, 67, 0.3), 0px 1px 3px 1px rgba(60, 64, 67, 0.15);\n",
              "      fill: #174EA6;\n",
              "    }\n",
              "\n",
              "    [theme=dark] .colab-df-convert {\n",
              "      background-color: #3B4455;\n",
              "      fill: #D2E3FC;\n",
              "    }\n",
              "\n",
              "    [theme=dark] .colab-df-convert:hover {\n",
              "      background-color: #434B5C;\n",
              "      box-shadow: 0px 1px 3px 1px rgba(0, 0, 0, 0.15);\n",
              "      filter: drop-shadow(0px 1px 2px rgba(0, 0, 0, 0.3));\n",
              "      fill: #FFFFFF;\n",
              "    }\n",
              "  </style>\n",
              "\n",
              "      <script>\n",
              "        const buttonEl =\n",
              "          document.querySelector('#df-e5a14d26-8c15-4f86-82e4-a7fee03b131b button.colab-df-convert');\n",
              "        buttonEl.style.display =\n",
              "          google.colab.kernel.accessAllowed ? 'block' : 'none';\n",
              "\n",
              "        async function convertToInteractive(key) {\n",
              "          const element = document.querySelector('#df-e5a14d26-8c15-4f86-82e4-a7fee03b131b');\n",
              "          const dataTable =\n",
              "            await google.colab.kernel.invokeFunction('convertToInteractive',\n",
              "                                                     [key], {});\n",
              "          if (!dataTable) return;\n",
              "\n",
              "          const docLinkHtml = 'Like what you see? Visit the ' +\n",
              "            '<a target=\"_blank\" href=https://colab.research.google.com/notebooks/data_table.ipynb>data table notebook</a>'\n",
              "            + ' to learn more about interactive tables.';\n",
              "          element.innerHTML = '';\n",
              "          dataTable['output_type'] = 'display_data';\n",
              "          await google.colab.output.renderOutput(dataTable, element);\n",
              "          const docLink = document.createElement('div');\n",
              "          docLink.innerHTML = docLinkHtml;\n",
              "          element.appendChild(docLink);\n",
              "        }\n",
              "      </script>\n",
              "    </div>\n",
              "  </div>\n",
              "  "
            ],
            "text/plain": [
              "                                           questions\n",
              "0  why doesn't an optical mouse work on a glass t...\n",
              "1       What is the best off-road motorcycle trail ?\n",
              "2             What is Trans Fat? How to reduce that?\n",
              "3                         How many planes Fedex has?\n",
              "4  In the san francisco bay area, does it make se..."
            ]
          },
          "metadata": {},
          "execution_count": 6
        }
      ],
      "source": [
        "df= pd.read_csv(\"yahoo_answers_csv/train.csv\", header=None, usecols=[1], names= ['questions'])\n",
        "df.head()"
      ]
    },
    {
      "cell_type": "markdown",
      "metadata": {
        "id": "0pIekyDe-U36"
      },
      "source": [
        "---\n",
        "#### Q-2\n",
        "---"
      ]
    },
    {
      "cell_type": "code",
      "execution_count": 7,
      "metadata": {
        "colab": {
          "base_uri": "https://localhost:8080/"
        },
        "id": "HlyrpwOrALby",
        "outputId": "5a42b091-4bff-44df-ae8f-a22a70ef5f40"
      },
      "outputs": [
        {
          "output_type": "stream",
          "name": "stdout",
          "text": [
            "<class 'pandas.core.frame.DataFrame'>\n",
            "RangeIndex: 1400000 entries, 0 to 1399999\n",
            "Data columns (total 1 columns):\n",
            " #   Column     Non-Null Count    Dtype \n",
            "---  ------     --------------    ----- \n",
            " 0   questions  1400000 non-null  object\n",
            "dtypes: object(1)\n",
            "memory usage: 10.7+ MB\n"
          ]
        }
      ],
      "source": [
        "df.info()"
      ]
    },
    {
      "cell_type": "markdown",
      "metadata": {
        "id": "SiTFMwYjAcIC"
      },
      "source": [
        "---\n",
        "#### There are `1400000` questions in this DataSet\n",
        "---"
      ]
    },
    {
      "cell_type": "code",
      "execution_count": 8,
      "metadata": {
        "colab": {
          "base_uri": "https://localhost:8080/"
        },
        "id": "5oG3sVstAmvr",
        "outputId": "ae3ccfe5-cf3c-48ce-a27f-1c4646912edf"
      },
      "outputs": [
        {
          "output_type": "stream",
          "name": "stdout",
          "text": [
            "The Length is :  80044665\n"
          ]
        }
      ],
      "source": [
        "length= 0\n",
        "for i, j in df[\"questions\"].items():\n",
        "  length += len(j)\n",
        "    \n",
        "\n",
        "\n",
        "print(\"The Length is : \", length)"
      ]
    },
    {
      "cell_type": "markdown",
      "metadata": {
        "id": "H4jOR9jNAcTS"
      },
      "source": [
        "---\n",
        "####  So there are `80044665` Characters in all the questions in the DataSet\n",
        "---"
      ]
    },
    {
      "cell_type": "markdown",
      "metadata": {
        "id": "6DyFL_kyI-6J"
      },
      "source": [
        "---\n",
        "### Q-3\n",
        "---"
      ]
    },
    {
      "cell_type": "code",
      "execution_count": 9,
      "metadata": {
        "id": "cRP7tWVlHKAp"
      },
      "outputs": [],
      "source": [
        "df[\"ques_len\"] = [len(j) for i , j in df['questions'].items()]"
      ]
    },
    {
      "cell_type": "code",
      "execution_count": 10,
      "metadata": {
        "colab": {
          "base_uri": "https://localhost:8080/",
          "height": 143
        },
        "id": "Qz2i2rXNAcXK",
        "outputId": "687e919b-6c7a-4ab8-cd03-c58bb8c5c759"
      },
      "outputs": [
        {
          "output_type": "execute_result",
          "data": {
            "text/html": [
              "\n",
              "  <div id=\"df-fa6b99dc-dde3-4ecf-87b9-a05bce646db8\">\n",
              "    <div class=\"colab-df-container\">\n",
              "      <div>\n",
              "<style scoped>\n",
              "    .dataframe tbody tr th:only-of-type {\n",
              "        vertical-align: middle;\n",
              "    }\n",
              "\n",
              "    .dataframe tbody tr th {\n",
              "        vertical-align: top;\n",
              "    }\n",
              "\n",
              "    .dataframe thead th {\n",
              "        text-align: right;\n",
              "    }\n",
              "</style>\n",
              "<table border=\"1\" class=\"dataframe\">\n",
              "  <thead>\n",
              "    <tr style=\"text-align: right;\">\n",
              "      <th></th>\n",
              "      <th>questions</th>\n",
              "      <th>ques_len</th>\n",
              "    </tr>\n",
              "  </thead>\n",
              "  <tbody>\n",
              "    <tr>\n",
              "      <th>0</th>\n",
              "      <td>why doesn't an optical mouse work on a glass t...</td>\n",
              "      <td>51</td>\n",
              "    </tr>\n",
              "    <tr>\n",
              "      <th>1</th>\n",
              "      <td>What is the best off-road motorcycle trail ?</td>\n",
              "      <td>44</td>\n",
              "    </tr>\n",
              "    <tr>\n",
              "      <th>2</th>\n",
              "      <td>What is Trans Fat? How to reduce that?</td>\n",
              "      <td>38</td>\n",
              "    </tr>\n",
              "  </tbody>\n",
              "</table>\n",
              "</div>\n",
              "      <button class=\"colab-df-convert\" onclick=\"convertToInteractive('df-fa6b99dc-dde3-4ecf-87b9-a05bce646db8')\"\n",
              "              title=\"Convert this dataframe to an interactive table.\"\n",
              "              style=\"display:none;\">\n",
              "        \n",
              "  <svg xmlns=\"http://www.w3.org/2000/svg\" height=\"24px\"viewBox=\"0 0 24 24\"\n",
              "       width=\"24px\">\n",
              "    <path d=\"M0 0h24v24H0V0z\" fill=\"none\"/>\n",
              "    <path d=\"M18.56 5.44l.94 2.06.94-2.06 2.06-.94-2.06-.94-.94-2.06-.94 2.06-2.06.94zm-11 1L8.5 8.5l.94-2.06 2.06-.94-2.06-.94L8.5 2.5l-.94 2.06-2.06.94zm10 10l.94 2.06.94-2.06 2.06-.94-2.06-.94-.94-2.06-.94 2.06-2.06.94z\"/><path d=\"M17.41 7.96l-1.37-1.37c-.4-.4-.92-.59-1.43-.59-.52 0-1.04.2-1.43.59L10.3 9.45l-7.72 7.72c-.78.78-.78 2.05 0 2.83L4 21.41c.39.39.9.59 1.41.59.51 0 1.02-.2 1.41-.59l7.78-7.78 2.81-2.81c.8-.78.8-2.07 0-2.86zM5.41 20L4 18.59l7.72-7.72 1.47 1.35L5.41 20z\"/>\n",
              "  </svg>\n",
              "      </button>\n",
              "      \n",
              "  <style>\n",
              "    .colab-df-container {\n",
              "      display:flex;\n",
              "      flex-wrap:wrap;\n",
              "      gap: 12px;\n",
              "    }\n",
              "\n",
              "    .colab-df-convert {\n",
              "      background-color: #E8F0FE;\n",
              "      border: none;\n",
              "      border-radius: 50%;\n",
              "      cursor: pointer;\n",
              "      display: none;\n",
              "      fill: #1967D2;\n",
              "      height: 32px;\n",
              "      padding: 0 0 0 0;\n",
              "      width: 32px;\n",
              "    }\n",
              "\n",
              "    .colab-df-convert:hover {\n",
              "      background-color: #E2EBFA;\n",
              "      box-shadow: 0px 1px 2px rgba(60, 64, 67, 0.3), 0px 1px 3px 1px rgba(60, 64, 67, 0.15);\n",
              "      fill: #174EA6;\n",
              "    }\n",
              "\n",
              "    [theme=dark] .colab-df-convert {\n",
              "      background-color: #3B4455;\n",
              "      fill: #D2E3FC;\n",
              "    }\n",
              "\n",
              "    [theme=dark] .colab-df-convert:hover {\n",
              "      background-color: #434B5C;\n",
              "      box-shadow: 0px 1px 3px 1px rgba(0, 0, 0, 0.15);\n",
              "      filter: drop-shadow(0px 1px 2px rgba(0, 0, 0, 0.3));\n",
              "      fill: #FFFFFF;\n",
              "    }\n",
              "  </style>\n",
              "\n",
              "      <script>\n",
              "        const buttonEl =\n",
              "          document.querySelector('#df-fa6b99dc-dde3-4ecf-87b9-a05bce646db8 button.colab-df-convert');\n",
              "        buttonEl.style.display =\n",
              "          google.colab.kernel.accessAllowed ? 'block' : 'none';\n",
              "\n",
              "        async function convertToInteractive(key) {\n",
              "          const element = document.querySelector('#df-fa6b99dc-dde3-4ecf-87b9-a05bce646db8');\n",
              "          const dataTable =\n",
              "            await google.colab.kernel.invokeFunction('convertToInteractive',\n",
              "                                                     [key], {});\n",
              "          if (!dataTable) return;\n",
              "\n",
              "          const docLinkHtml = 'Like what you see? Visit the ' +\n",
              "            '<a target=\"_blank\" href=https://colab.research.google.com/notebooks/data_table.ipynb>data table notebook</a>'\n",
              "            + ' to learn more about interactive tables.';\n",
              "          element.innerHTML = '';\n",
              "          dataTable['output_type'] = 'display_data';\n",
              "          await google.colab.output.renderOutput(dataTable, element);\n",
              "          const docLink = document.createElement('div');\n",
              "          docLink.innerHTML = docLinkHtml;\n",
              "          element.appendChild(docLink);\n",
              "        }\n",
              "      </script>\n",
              "    </div>\n",
              "  </div>\n",
              "  "
            ],
            "text/plain": [
              "                                           questions  ques_len\n",
              "0  why doesn't an optical mouse work on a glass t...        51\n",
              "1       What is the best off-road motorcycle trail ?        44\n",
              "2             What is Trans Fat? How to reduce that?        38"
            ]
          },
          "metadata": {},
          "execution_count": 10
        }
      ],
      "source": [
        "df.head(3)"
      ]
    },
    {
      "cell_type": "code",
      "execution_count": 11,
      "metadata": {
        "colab": {
          "base_uri": "https://localhost:8080/",
          "height": 279
        },
        "id": "loDQO6JDHw-5",
        "outputId": "34fcdaad-436f-46a1-83af-bdb08dccf9df"
      },
      "outputs": [
        {
          "output_type": "display_data",
          "data": {
            "image/png": "[encoded data removed]",
            "text/plain": [
              "<Figure size 432x288 with 1 Axes>"
            ]
          },
          "metadata": {
            "needs_background": "light"
          }
        }
      ],
      "source": [
        "plt.hist(df['ques_len'], rwidth= 0.9 )\n",
        "plt.xlabel(\"Text Length\")\n",
        "plt.ylabel(\"Number of texts with Length respectively\")\n",
        "plt.show();"
      ]
    },
    {
      "cell_type": "markdown",
      "metadata": {
        "id": "XQXznIsiIecJ"
      },
      "source": [
        "---\n",
        "####  By looking at the above histogram, we can see that More than 80% of the sentences have less than 100 characters.\n",
        "---"
      ]
    },
    {
      "cell_type": "markdown",
      "metadata": {
        "id": "_dBjfF8mIv9w"
      },
      "source": [
        "--\n",
        "### Q-4\n",
        "--"
      ]
    },
    {
      "cell_type": "markdown",
      "metadata": {
        "id": "BozRFjjFLeO5"
      },
      "source": [
        "---\n",
        "#### Lets Make Two Columns: 1- for Len of Unique Characters , 2- for Unique Characters\n",
        "---"
      ]
    },
    {
      "cell_type": "code",
      "execution_count": 12,
      "metadata": {
        "id": "DmEWtpJ4WMjl"
      },
      "outputs": [],
      "source": [
        "dummy= df.copy()"
      ]
    },
    {
      "cell_type": "code",
      "execution_count": 13,
      "metadata": {
        "id": "gVRbzJ6mJHAp"
      },
      "outputs": [],
      "source": [
        "\n",
        "dummy['unique_char'] = [ len(set(j)) for i, j in dummy['questions'].items()]  "
      ]
    },
    {
      "cell_type": "code",
      "execution_count": 14,
      "metadata": {
        "id": "yGdmSXDOIwGI"
      },
      "outputs": [],
      "source": [
        "dummy['unique_chars_used'] = [list(set(j)) for i, j in dummy['questions'].items()]"
      ]
    },
    {
      "cell_type": "code",
      "execution_count": 15,
      "metadata": {
        "colab": {
          "base_uri": "https://localhost:8080/",
          "height": 143
        },
        "id": "horDtFGZQrbA",
        "outputId": "96310078-bc29-4023-8209-1e9bce861271"
      },
      "outputs": [
        {
          "output_type": "execute_result",
          "data": {
            "text/html": [
              "\n",
              "  <div id=\"df-d07bcd20-6d60-4a3d-9178-74f287c52194\">\n",
              "    <div class=\"colab-df-container\">\n",
              "      <div>\n",
              "<style scoped>\n",
              "    .dataframe tbody tr th:only-of-type {\n",
              "        vertical-align: middle;\n",
              "    }\n",
              "\n",
              "    .dataframe tbody tr th {\n",
              "        vertical-align: top;\n",
              "    }\n",
              "\n",
              "    .dataframe thead th {\n",
              "        text-align: right;\n",
              "    }\n",
              "</style>\n",
              "<table border=\"1\" class=\"dataframe\">\n",
              "  <thead>\n",
              "    <tr style=\"text-align: right;\">\n",
              "      <th></th>\n",
              "      <th>questions</th>\n",
              "      <th>ques_len</th>\n",
              "      <th>unique_char</th>\n",
              "      <th>unique_chars_used</th>\n",
              "    </tr>\n",
              "  </thead>\n",
              "  <tbody>\n",
              "    <tr>\n",
              "      <th>0</th>\n",
              "      <td>why doesn't an optical mouse work on a glass t...</td>\n",
              "      <td>51</td>\n",
              "      <td>23</td>\n",
              "      <td>[ , m, ?, w, o, r, d, g, e, l, u, b, a, c, k, ...</td>\n",
              "    </tr>\n",
              "    <tr>\n",
              "      <th>1</th>\n",
              "      <td>What is the best off-road motorcycle trail ?</td>\n",
              "      <td>44</td>\n",
              "      <td>19</td>\n",
              "      <td>[ , m, ?, f, o, -, W, r, d, e, l, b, a, c, h, ...</td>\n",
              "    </tr>\n",
              "    <tr>\n",
              "      <th>2</th>\n",
              "      <td>What is Trans Fat? How to reduce that?</td>\n",
              "      <td>38</td>\n",
              "      <td>19</td>\n",
              "      <td>[ , ?, w, o, H, W, r, T, F, d, e, u, a, c, h, ...</td>\n",
              "    </tr>\n",
              "  </tbody>\n",
              "</table>\n",
              "</div>\n",
              "      <button class=\"colab-df-convert\" onclick=\"convertToInteractive('df-d07bcd20-6d60-4a3d-9178-74f287c52194')\"\n",
              "              title=\"Convert this dataframe to an interactive table.\"\n",
              "              style=\"display:none;\">\n",
              "        \n",
              "  <svg xmlns=\"http://www.w3.org/2000/svg\" height=\"24px\"viewBox=\"0 0 24 24\"\n",
              "       width=\"24px\">\n",
              "    <path d=\"M0 0h24v24H0V0z\" fill=\"none\"/>\n",
              "    <path d=\"M18.56 5.44l.94 2.06.94-2.06 2.06-.94-2.06-.94-.94-2.06-.94 2.06-2.06.94zm-11 1L8.5 8.5l.94-2.06 2.06-.94-2.06-.94L8.5 2.5l-.94 2.06-2.06.94zm10 10l.94 2.06.94-2.06 2.06-.94-2.06-.94-.94-2.06-.94 2.06-2.06.94z\"/><path d=\"M17.41 7.96l-1.37-1.37c-.4-.4-.92-.59-1.43-.59-.52 0-1.04.2-1.43.59L10.3 9.45l-7.72 7.72c-.78.78-.78 2.05 0 2.83L4 21.41c.39.39.9.59 1.41.59.51 0 1.02-.2 1.41-.59l7.78-7.78 2.81-2.81c.8-.78.8-2.07 0-2.86zM5.41 20L4 18.59l7.72-7.72 1.47 1.35L5.41 20z\"/>\n",
              "  </svg>\n",
              "      </button>\n",
              "      \n",
              "  <style>\n",
              "    .colab-df-container {\n",
              "      display:flex;\n",
              "      flex-wrap:wrap;\n",
              "      gap: 12px;\n",
              "    }\n",
              "\n",
              "    .colab-df-convert {\n",
              "      background-color: #E8F0FE;\n",
              "      border: none;\n",
              "      border-radius: 50%;\n",
              "      cursor: pointer;\n",
              "      display: none;\n",
              "      fill: #1967D2;\n",
              "      height: 32px;\n",
              "      padding: 0 0 0 0;\n",
              "      width: 32px;\n",
              "    }\n",
              "\n",
              "    .colab-df-convert:hover {\n",
              "      background-color: #E2EBFA;\n",
              "      box-shadow: 0px 1px 2px rgba(60, 64, 67, 0.3), 0px 1px 3px 1px rgba(60, 64, 67, 0.15);\n",
              "      fill: #174EA6;\n",
              "    }\n",
              "\n",
              "    [theme=dark] .colab-df-convert {\n",
              "      background-color: #3B4455;\n",
              "      fill: #D2E3FC;\n",
              "    }\n",
              "\n",
              "    [theme=dark] .colab-df-convert:hover {\n",
              "      background-color: #434B5C;\n",
              "      box-shadow: 0px 1px 3px 1px rgba(0, 0, 0, 0.15);\n",
              "      filter: drop-shadow(0px 1px 2px rgba(0, 0, 0, 0.3));\n",
              "      fill: #FFFFFF;\n",
              "    }\n",
              "  </style>\n",
              "\n",
              "      <script>\n",
              "        const buttonEl =\n",
              "          document.querySelector('#df-d07bcd20-6d60-4a3d-9178-74f287c52194 button.colab-df-convert');\n",
              "        buttonEl.style.display =\n",
              "          google.colab.kernel.accessAllowed ? 'block' : 'none';\n",
              "\n",
              "        async function convertToInteractive(key) {\n",
              "          const element = document.querySelector('#df-d07bcd20-6d60-4a3d-9178-74f287c52194');\n",
              "          const dataTable =\n",
              "            await google.colab.kernel.invokeFunction('convertToInteractive',\n",
              "                                                     [key], {});\n",
              "          if (!dataTable) return;\n",
              "\n",
              "          const docLinkHtml = 'Like what you see? Visit the ' +\n",
              "            '<a target=\"_blank\" href=https://colab.research.google.com/notebooks/data_table.ipynb>data table notebook</a>'\n",
              "            + ' to learn more about interactive tables.';\n",
              "          element.innerHTML = '';\n",
              "          dataTable['output_type'] = 'display_data';\n",
              "          await google.colab.output.renderOutput(dataTable, element);\n",
              "          const docLink = document.createElement('div');\n",
              "          docLink.innerHTML = docLinkHtml;\n",
              "          element.appendChild(docLink);\n",
              "        }\n",
              "      </script>\n",
              "    </div>\n",
              "  </div>\n",
              "  "
            ],
            "text/plain": [
              "                                           questions  ...                                  unique_chars_used\n",
              "0  why doesn't an optical mouse work on a glass t...  ...  [ , m, ?, w, o, r, d, g, e, l, u, b, a, c, k, ...\n",
              "1       What is the best off-road motorcycle trail ?  ...  [ , m, ?, f, o, -, W, r, d, e, l, b, a, c, h, ...\n",
              "2             What is Trans Fat? How to reduce that?  ...  [ , ?, w, o, H, W, r, T, F, d, e, u, a, c, h, ...\n",
              "\n",
              "[3 rows x 4 columns]"
            ]
          },
          "metadata": {},
          "execution_count": 15
        }
      ],
      "source": [
        "dummy.head(3)"
      ]
    },
    {
      "cell_type": "code",
      "execution_count": 16,
      "metadata": {
        "id": "KmQLX_h1QvYA"
      },
      "outputs": [],
      "source": [
        "# ATTENTION !!!  Our target is to get the unique characters present in all the questions! \n",
        "\n",
        "lst= []\n",
        "\n",
        "for i, j in dummy['unique_chars_used'].items():\n",
        "  lst+= j\n"
      ]
    },
    {
      "cell_type": "code",
      "execution_count": 17,
      "metadata": {
        "colab": {
          "base_uri": "https://localhost:8080/",
          "height": 35
        },
        "id": "M__SOQU4Xiv2",
        "outputId": "cc21e565-dc00-436c-c829-3ea07ee77f99"
      },
      "outputs": [
        {
          "output_type": "execute_result",
          "data": {
            "application/vnd.google.colaboratory.intrinsic+json": {
              "type": "string"
            },
            "text/plain": [
              "'So there are total 875 Characters'"
            ]
          },
          "metadata": {},
          "execution_count": 17
        }
      ],
      "source": [
        "( f\"So there are total {len(set(lst))} Characters\")"
      ]
    },
    {
      "cell_type": "markdown",
      "metadata": {
        "id": "H9u3Z_-gLCQg"
      },
      "source": [
        "---\n",
        "#### The number are so high because beside English Alphabets, there are characters of other languages as well!\n",
        "---"
      ]
    },
    {
      "cell_type": "markdown",
      "metadata": {
        "id": "i_T4fL-BL93A"
      },
      "source": [
        "--\n",
        "### Q- 9\n",
        "--"
      ]
    },
    {
      "cell_type": "code",
      "execution_count": 18,
      "metadata": {
        "id": "7D7ViEDwiTJq"
      },
      "outputs": [],
      "source": [
        "import re\n",
        "\n",
        "cleaned=[]\n",
        "for i, j in dummy['questions'].items():\n",
        "  cleaned.append(re.sub(r\"[^A-Za-z.,!?@:;' ]\", '', j)) \n",
        "  "
      ]
    },
    {
      "cell_type": "code",
      "execution_count": 19,
      "metadata": {
        "id": "rMLFxeORiSXL"
      },
      "outputs": [],
      "source": [
        "# Dummy Data\n",
        "dummy['cleaned'] = cleaned\n",
        "# Real Data\n",
        "df['cleaned'] = cleaned"
      ]
    },
    {
      "cell_type": "code",
      "source": [
        "df.head(3)"
      ],
      "metadata": {
        "colab": {
          "base_uri": "https://localhost:8080/",
          "height": 143
        },
        "id": "lqYF6LZTkPJK",
        "outputId": "0fca4c6d-5ae0-4401-baa6-57262c03b730"
      },
      "execution_count": 20,
      "outputs": [
        {
          "output_type": "execute_result",
          "data": {
            "text/html": [
              "\n",
              "  <div id=\"df-9d839a59-da6a-4288-b3cf-bd8e11639327\">\n",
              "    <div class=\"colab-df-container\">\n",
              "      <div>\n",
              "<style scoped>\n",
              "    .dataframe tbody tr th:only-of-type {\n",
              "        vertical-align: middle;\n",
              "    }\n",
              "\n",
              "    .dataframe tbody tr th {\n",
              "        vertical-align: top;\n",
              "    }\n",
              "\n",
              "    .dataframe thead th {\n",
              "        text-align: right;\n",
              "    }\n",
              "</style>\n",
              "<table border=\"1\" class=\"dataframe\">\n",
              "  <thead>\n",
              "    <tr style=\"text-align: right;\">\n",
              "      <th></th>\n",
              "      <th>questions</th>\n",
              "      <th>ques_len</th>\n",
              "      <th>cleaned</th>\n",
              "    </tr>\n",
              "  </thead>\n",
              "  <tbody>\n",
              "    <tr>\n",
              "      <th>0</th>\n",
              "      <td>why doesn't an optical mouse work on a glass t...</td>\n",
              "      <td>51</td>\n",
              "      <td>why doesn't an optical mouse work on a glass t...</td>\n",
              "    </tr>\n",
              "    <tr>\n",
              "      <th>1</th>\n",
              "      <td>What is the best off-road motorcycle trail ?</td>\n",
              "      <td>44</td>\n",
              "      <td>What is the best offroad motorcycle trail ?</td>\n",
              "    </tr>\n",
              "    <tr>\n",
              "      <th>2</th>\n",
              "      <td>What is Trans Fat? How to reduce that?</td>\n",
              "      <td>38</td>\n",
              "      <td>What is Trans Fat? How to reduce that?</td>\n",
              "    </tr>\n",
              "  </tbody>\n",
              "</table>\n",
              "</div>\n",
              "      <button class=\"colab-df-convert\" onclick=\"convertToInteractive('df-9d839a59-da6a-4288-b3cf-bd8e11639327')\"\n",
              "              title=\"Convert this dataframe to an interactive table.\"\n",
              "              style=\"display:none;\">\n",
              "        \n",
              "  <svg xmlns=\"http://www.w3.org/2000/svg\" height=\"24px\"viewBox=\"0 0 24 24\"\n",
              "       width=\"24px\">\n",
              "    <path d=\"M0 0h24v24H0V0z\" fill=\"none\"/>\n",
              "    <path d=\"M18.56 5.44l.94 2.06.94-2.06 2.06-.94-2.06-.94-.94-2.06-.94 2.06-2.06.94zm-11 1L8.5 8.5l.94-2.06 2.06-.94-2.06-.94L8.5 2.5l-.94 2.06-2.06.94zm10 10l.94 2.06.94-2.06 2.06-.94-2.06-.94-.94-2.06-.94 2.06-2.06.94z\"/><path d=\"M17.41 7.96l-1.37-1.37c-.4-.4-.92-.59-1.43-.59-.52 0-1.04.2-1.43.59L10.3 9.45l-7.72 7.72c-.78.78-.78 2.05 0 2.83L4 21.41c.39.39.9.59 1.41.59.51 0 1.02-.2 1.41-.59l7.78-7.78 2.81-2.81c.8-.78.8-2.07 0-2.86zM5.41 20L4 18.59l7.72-7.72 1.47 1.35L5.41 20z\"/>\n",
              "  </svg>\n",
              "      </button>\n",
              "      \n",
              "  <style>\n",
              "    .colab-df-container {\n",
              "      display:flex;\n",
              "      flex-wrap:wrap;\n",
              "      gap: 12px;\n",
              "    }\n",
              "\n",
              "    .colab-df-convert {\n",
              "      background-color: #E8F0FE;\n",
              "      border: none;\n",
              "      border-radius: 50%;\n",
              "      cursor: pointer;\n",
              "      display: none;\n",
              "      fill: #1967D2;\n",
              "      height: 32px;\n",
              "      padding: 0 0 0 0;\n",
              "      width: 32px;\n",
              "    }\n",
              "\n",
              "    .colab-df-convert:hover {\n",
              "      background-color: #E2EBFA;\n",
              "      box-shadow: 0px 1px 2px rgba(60, 64, 67, 0.3), 0px 1px 3px 1px rgba(60, 64, 67, 0.15);\n",
              "      fill: #174EA6;\n",
              "    }\n",
              "\n",
              "    [theme=dark] .colab-df-convert {\n",
              "      background-color: #3B4455;\n",
              "      fill: #D2E3FC;\n",
              "    }\n",
              "\n",
              "    [theme=dark] .colab-df-convert:hover {\n",
              "      background-color: #434B5C;\n",
              "      box-shadow: 0px 1px 3px 1px rgba(0, 0, 0, 0.15);\n",
              "      filter: drop-shadow(0px 1px 2px rgba(0, 0, 0, 0.3));\n",
              "      fill: #FFFFFF;\n",
              "    }\n",
              "  </style>\n",
              "\n",
              "      <script>\n",
              "        const buttonEl =\n",
              "          document.querySelector('#df-9d839a59-da6a-4288-b3cf-bd8e11639327 button.colab-df-convert');\n",
              "        buttonEl.style.display =\n",
              "          google.colab.kernel.accessAllowed ? 'block' : 'none';\n",
              "\n",
              "        async function convertToInteractive(key) {\n",
              "          const element = document.querySelector('#df-9d839a59-da6a-4288-b3cf-bd8e11639327');\n",
              "          const dataTable =\n",
              "            await google.colab.kernel.invokeFunction('convertToInteractive',\n",
              "                                                     [key], {});\n",
              "          if (!dataTable) return;\n",
              "\n",
              "          const docLinkHtml = 'Like what you see? Visit the ' +\n",
              "            '<a target=\"_blank\" href=https://colab.research.google.com/notebooks/data_table.ipynb>data table notebook</a>'\n",
              "            + ' to learn more about interactive tables.';\n",
              "          element.innerHTML = '';\n",
              "          dataTable['output_type'] = 'display_data';\n",
              "          await google.colab.output.renderOutput(dataTable, element);\n",
              "          const docLink = document.createElement('div');\n",
              "          docLink.innerHTML = docLinkHtml;\n",
              "          element.appendChild(docLink);\n",
              "        }\n",
              "      </script>\n",
              "    </div>\n",
              "  </div>\n",
              "  "
            ],
            "text/plain": [
              "                                           questions  ...                                            cleaned\n",
              "0  why doesn't an optical mouse work on a glass t...  ...  why doesn't an optical mouse work on a glass t...\n",
              "1       What is the best off-road motorcycle trail ?  ...        What is the best offroad motorcycle trail ?\n",
              "2             What is Trans Fat? How to reduce that?  ...             What is Trans Fat? How to reduce that?\n",
              "\n",
              "[3 rows x 3 columns]"
            ]
          },
          "metadata": {},
          "execution_count": 20
        }
      ]
    },
    {
      "cell_type": "markdown",
      "source": [
        "--\n",
        "### Q- 10\n",
        "--"
      ],
      "metadata": {
        "id": "mAlEupMKhIoD"
      }
    },
    {
      "cell_type": "code",
      "source": [
        ""
      ],
      "metadata": {
        "id": "OBUvWuoFhfyk"
      },
      "execution_count": 20,
      "outputs": []
    },
    {
      "cell_type": "code",
      "source": [
        "cleaned= [ \"^\"+ j+ \"$\" for i, j in df['cleaned'].items()]"
      ],
      "metadata": {
        "id": "4LOjG55IhJQa"
      },
      "execution_count": 21,
      "outputs": []
    },
    {
      "cell_type": "code",
      "source": [
        "dummy['cleaned'] = cleaned\n",
        "# real_data\n",
        "df['cleaned'] = cleaned"
      ],
      "metadata": {
        "id": "46f9tQa3jQ_z"
      },
      "execution_count": 22,
      "outputs": []
    },
    {
      "cell_type": "code",
      "source": [
        "df['cleaned'].head(10)"
      ],
      "metadata": {
        "colab": {
          "base_uri": "https://localhost:8080/"
        },
        "id": "Gb42mCGKhJaT",
        "outputId": "f4db6adb-6665-4dc2-aeff-14f615ab5f3a"
      },
      "execution_count": 23,
      "outputs": [
        {
          "output_type": "execute_result",
          "data": {
            "text/plain": [
              "0    ^why doesn't an optical mouse work on a glass ...\n",
              "1        ^What is the best offroad motorcycle trail ?$\n",
              "2             ^What is Trans Fat? How to reduce that?$\n",
              "3                         ^How many planes Fedex has?$\n",
              "4    ^In the san francisco bay area, does it make s...\n",
              "5           ^What's the best way to clean a keyboard?$\n",
              "6     ^Why do people blush when they are embarrassed?$\n",
              "7    ^Is Lin Qingxia aka Brigitte Lin the most beau...\n",
              "8                      ^What is the origin of foobar?$\n",
              "9                     ^How the human species evolved?$\n",
              "Name: cleaned, dtype: object"
            ]
          },
          "metadata": {},
          "execution_count": 23
        }
      ]
    },
    {
      "cell_type": "markdown",
      "source": [
        "---\n",
        "Q- 11\n",
        "\n",
        "---"
      ],
      "metadata": {
        "id": "GFTlSjmzjguL"
      }
    },
    {
      "cell_type": "code",
      "source": [
        "df['unique_chars_used'] = [list(set(j)) for i, j in df['cleaned'].items()]\n",
        "\n",
        "lst= []\n",
        "\n",
        "for i, j in df['unique_chars_used'].items():\n",
        "  lst+= j\n",
        "\n",
        "\n",
        "print(\"Now the number of Unique Characters are : \", len(set(lst)))"
      ],
      "metadata": {
        "colab": {
          "base_uri": "https://localhost:8080/"
        },
        "id": "uW__-qxfjlfL",
        "outputId": "d84ae17b-f4e4-465c-a87f-3a8a8b801af4"
      },
      "execution_count": 24,
      "outputs": [
        {
          "output_type": "stream",
          "name": "stdout",
          "text": [
            "Now the number of Unique Characters are :  63\n"
          ]
        }
      ]
    },
    {
      "cell_type": "code",
      "source": [
        ""
      ],
      "metadata": {
        "id": "AAvKZ7xljjij"
      },
      "execution_count": 24,
      "outputs": []
    },
    {
      "cell_type": "markdown",
      "metadata": {
        "id": "wxpCVWYwM-Rj"
      },
      "source": [
        "## Part 3: Tokenization\n",
        "\n",
        "To train a model on the questions, we must first convert them from text into vectors. To do this, we will use two useful TensorFlow preprocessing utilities: `tensorflow.keras.preprocessing.text.Tokenizer` and `tensorflow.keras.preprocessing.sequence.pad_sequences`.\n",
        "\n",
        "We will first examine what these utilities do using this sample textual data:"
      ]
    },
    {
      "cell_type": "code",
      "execution_count": 25,
      "metadata": {
        "id": "MUVhJHgIOGUU"
      },
      "outputs": [],
      "source": [
        "from tensorflow.keras.preprocessing.text import Tokenizer\n",
        "from tensorflow.keras.preprocessing.sequence import pad_sequences\n",
        "\n",
        "sample_texts = ['Hello world.', 'Hi ITC!']"
      ]
    },
    {
      "cell_type": "markdown",
      "metadata": {
        "id": "yJCrklWeOIqA"
      },
      "source": [
        "**Questions:**\n",
        "\n",
        "12. Create a tokenizer with `sample_tokenizer = Tokenizer(char_level=True)`. Fit it with `sample_tokenizer.fit_on_texts(sample_texts)` and then view the output of `sample_tokenizer.texts_to_sequences(sample_texts)`. Explain the meaning of the output.\n",
        "13. Apply `pad_sequences` to the output from the previous question, using parameters `maxlen=10, padding='post', truncating='post'`. Explain what this does."
      ]
    },
    {
      "cell_type": "markdown",
      "source": [
        "---\n",
        "Q- 12\n",
        "\n",
        "---"
      ],
      "metadata": {
        "id": "CfqQcRwSu6R7"
      }
    },
    {
      "cell_type": "code",
      "source": [
        "sample_tokenizer = Tokenizer(char_level= True)\n",
        "sample_tokenizer.fit_on_texts(sample_texts)"
      ],
      "metadata": {
        "id": "8jG74pqi-xrp"
      },
      "execution_count": 26,
      "outputs": []
    },
    {
      "cell_type": "code",
      "source": [
        "sample_tokenizer.texts_to_sequences(sample_texts)"
      ],
      "metadata": {
        "colab": {
          "base_uri": "https://localhost:8080/"
        },
        "id": "dUDJzPF1t9Rx",
        "outputId": "852cff1e-0323-4b9d-f86e-297d8be17833"
      },
      "execution_count": 27,
      "outputs": [
        {
          "output_type": "execute_result",
          "data": {
            "text/plain": [
              "[[2, 6, 1, 1, 3, 4, 7, 3, 8, 1, 9, 10], [2, 5, 4, 5, 11, 12, 13]]"
            ]
          },
          "metadata": {},
          "execution_count": 27
        }
      ]
    },
    {
      "cell_type": "markdown",
      "source": [
        "####  `So this Text_to_sequences transforms each sequences of String into an Array of integers of the same length as that of the characters in the String.`"
      ],
      "metadata": {
        "id": "qUrj0hGq-yGg"
      }
    },
    {
      "cell_type": "markdown",
      "source": [
        "---\n",
        "Q-13\n",
        "\n",
        "---"
      ],
      "metadata": {
        "id": "2VlcfScUu3xh"
      }
    },
    {
      "cell_type": "code",
      "source": [
        "sequence= sample_tokenizer.texts_to_sequences(sample_texts)\n",
        "#  So by looking at the doc of Pad_sequences() its clear that this function is used to Pdas the Sequence equal to the length of maxlen parameter (if provided) or the length of the longest sequences.\n",
        "pad_result= pad_sequences(sequences=sequence, maxlen=10, padding= \"post\", truncating= 'post')\n",
        "pad_result"
      ],
      "metadata": {
        "colab": {
          "base_uri": "https://localhost:8080/"
        },
        "id": "e3aSW7j8u30a",
        "outputId": "9504a154-ecdd-49bb-ec9e-90130731bbec"
      },
      "execution_count": 28,
      "outputs": [
        {
          "output_type": "execute_result",
          "data": {
            "text/plain": [
              "array([[ 2,  6,  1,  1,  3,  4,  7,  3,  8,  1],\n",
              "       [ 2,  5,  4,  5, 11, 12, 13,  0,  0,  0]], dtype=int32)"
            ]
          },
          "metadata": {},
          "execution_count": 28
        }
      ]
    },
    {
      "cell_type": "code",
      "source": [
        ""
      ],
      "metadata": {
        "id": "PfPekzoJu38j"
      },
      "execution_count": 28,
      "outputs": []
    },
    {
      "cell_type": "markdown",
      "source": [
        "---\n",
        "Q- 14\n",
        "\n",
        "---"
      ],
      "metadata": {
        "id": "qx6lAgLXzXtx"
      }
    },
    {
      "cell_type": "code",
      "source": [
        "tokenizer = Tokenizer(char_level= True, lower= False )\n",
        "tokenizer.fit_on_texts(df['cleaned'])\n",
        "sequence= tokenizer.texts_to_sequences(df['cleaned'])"
      ],
      "metadata": {
        "id": "TdnhYsd8zbeS"
      },
      "execution_count": 29,
      "outputs": []
    },
    {
      "cell_type": "code",
      "source": [
        "data= pad_sequences(sequences=sequence, maxlen=100, padding='post', truncating='post')\n",
        "data.shape"
      ],
      "metadata": {
        "colab": {
          "base_uri": "https://localhost:8080/"
        },
        "id": "he9rl97Xzblx",
        "outputId": "eb8a7217-1c0e-48a8-f8cb-92af06987cf4"
      },
      "execution_count": 30,
      "outputs": [
        {
          "output_type": "execute_result",
          "data": {
            "text/plain": [
              "(1400000, 100)"
            ]
          },
          "metadata": {},
          "execution_count": 30
        }
      ]
    },
    {
      "cell_type": "markdown",
      "source": [
        "*  `Shape of the data is: (1400000, 100)`"
      ],
      "metadata": {
        "id": "dW6tMyLzzbpQ"
      }
    },
    {
      "cell_type": "code",
      "source": [
        "data[0:1, 0:]"
      ],
      "metadata": {
        "colab": {
          "base_uri": "https://localhost:8080/"
        },
        "id": "zSOv_u6uzbsZ",
        "outputId": "5c42b1da-e2d4-4df2-cb0a-34abb7803119"
      },
      "execution_count": 31,
      "outputs": [
        {
          "output_type": "execute_result",
          "data": {
            "text/plain": [
              "array([[19, 17, 10, 18,  1, 12,  3,  2,  8,  7, 34,  4,  1,  5,  7,  1,\n",
              "         3, 23,  4,  6, 14,  5, 11,  1, 16,  3, 13,  8,  2,  1, 17,  3,\n",
              "         9, 25,  1,  3,  7,  1,  5,  1, 21, 11,  5,  8,  8,  1,  4,  5,\n",
              "        24, 11,  2, 15, 20,  0,  0,  0,  0,  0,  0,  0,  0,  0,  0,  0,\n",
              "         0,  0,  0,  0,  0,  0,  0,  0,  0,  0,  0,  0,  0,  0,  0,  0,\n",
              "         0,  0,  0,  0,  0,  0,  0,  0,  0,  0,  0,  0,  0,  0,  0,  0,\n",
              "         0,  0,  0,  0]], dtype=int32)"
            ]
          },
          "metadata": {},
          "execution_count": 31
        }
      ]
    },
    {
      "cell_type": "markdown",
      "source": [
        "---\n",
        "Q-15\n",
        "\n",
        "---"
      ],
      "metadata": {
        "id": "mQ6DzMth2mAp"
      }
    },
    {
      "cell_type": "code",
      "source": [
        "print( \"Minimum Number that appears in the Data is: \" , data.min())\n",
        "print( \"Maximum Number that appears in the Data is: \" , data.max())\n"
      ],
      "metadata": {
        "colab": {
          "base_uri": "https://localhost:8080/"
        },
        "id": "_pPXubHC1r0S",
        "outputId": "339402a6-eab4-4cb0-905e-34047ad1d59f"
      },
      "execution_count": 32,
      "outputs": [
        {
          "output_type": "stream",
          "name": "stdout",
          "text": [
            "Minimum Number that appears in the Data is:  0\n",
            "Maximum Number that appears in the Data is:  63\n"
          ]
        }
      ]
    },
    {
      "cell_type": "code",
      "source": [
        "print( \"Number of unique characters used are: \" ,np.unique(data))"
      ],
      "metadata": {
        "colab": {
          "base_uri": "https://localhost:8080/"
        },
        "id": "ocWbMqaM1sSx",
        "outputId": "53154525-c296-4568-ffe8-a686aa4484ae"
      },
      "execution_count": 33,
      "outputs": [
        {
          "output_type": "stream",
          "name": "stdout",
          "text": [
            "Number of unique characters used are:  [ 0  1  2  3  4  5  6  7  8  9 10 11 12 13 14 15 16 17 18 19 20 21 22 23\n",
            " 24 25 26 27 28 29 30 31 32 33 34 35 36 37 38 39 40 41 42 43 44 45 46 47\n",
            " 48 49 50 51 52 53 54 55 56 57 58 59 60 61 62 63]\n"
          ]
        }
      ]
    },
    {
      "cell_type": "markdown",
      "source": [
        "#### As we can the that the number of unique numbers are same as that of number of unique characters in the question 11. \n",
        "#### The reason is\n",
        "  * By applying tokenizer on the questions, each character was converted to a unique number. So because of that new array also has same number of unique characters"
      ],
      "metadata": {
        "id": "weP2m-9u1sVq"
      }
    },
    {
      "cell_type": "markdown",
      "source": [
        "---\n",
        "Q- 16\n",
        "\n",
        "---"
      ],
      "metadata": {
        "id": "dIGD1evf1sYR"
      }
    },
    {
      "cell_type": "code",
      "source": [
        ""
      ],
      "metadata": {
        "id": "xN0bCHaG6N6g"
      },
      "execution_count": 33,
      "outputs": []
    },
    {
      "cell_type": "code",
      "source": [
        ""
      ],
      "metadata": {
        "id": "gbVlq51P6N9h"
      },
      "execution_count": 33,
      "outputs": []
    },
    {
      "cell_type": "code",
      "source": [
        "data[-1]"
      ],
      "metadata": {
        "colab": {
          "base_uri": "https://localhost:8080/"
        },
        "id": "JFj5Ja_06OAJ",
        "outputId": "cb7e320f-9df0-4f01-eead-aa6ab90cbc40"
      },
      "execution_count": 34,
      "outputs": [
        {
          "output_type": "execute_result",
          "data": {
            "text/plain": [
              "array([19, 17, 10,  2,  9,  2,  1, 14,  5,  7,  1,  6,  1, 22,  6,  7, 12,\n",
              "        1, 17,  2, 24,  8,  6,  4,  2,  8,  1,  1, 17,  2,  9,  2,  1,  6,\n",
              "        1, 14,  5,  7,  1, 10,  5, 26,  2,  1,  5,  1, 26,  6,  9,  4, 13,\n",
              "        5, 11,  1, 23,  2,  4, 15, 15, 20,  0,  0,  0,  0,  0,  0,  0,  0,\n",
              "        0,  0,  0,  0,  0,  0,  0,  0,  0,  0,  0,  0,  0,  0,  0,  0,  0,\n",
              "        0,  0,  0,  0,  0,  0,  0,  0,  0,  0,  0,  0,  0,  0,  0],\n",
              "      dtype=int32)"
            ]
          },
          "metadata": {},
          "execution_count": 34
        }
      ]
    },
    {
      "cell_type": "markdown",
      "metadata": {
        "id": "L1_YnH6RPrWb"
      },
      "source": [
        "## Part 4: Data Preparation\n",
        "\n",
        "Now we will use the utilities from above to prepare our data in numeric form.\n",
        "\n",
        "**Questions:**\n",
        "14. Using `Tokenizer` and `pad_sequences()`, convert the textual data in `df.cleaned` to a NumPy matrix `data`. Use the following parameters:\n",
        "  * `Tokenizer`: `char_level=True`, `lower=False` (don't convert texts to lowercase)\n",
        "  * `pad_sequences()`: `maxlen=100`, `padding='post'`, `truncating='post'`\n",
        "  \n",
        "  What is the shape of `data`?\n",
        "\n",
        "15. What are the minimum and maximum numbers that appear in `data`? How many unique numbers appear in `data`? How does this compare to question 11, and why?\n",
        "\n",
        "16. Use `data` to generate input and target matrices `X` and `Y` for our RNN language model. `X` and `Y` should be arrays of character indices of shape `(1400000, 99).`\n",
        "\n",
        "  Note: `Y` should be offset one character from `X` since we want to predict the next character in a string given what came before - e.g. the first row of `X` is the *first* 99 characters of the first question in `data`, and the first row of `Y` is the *last* 99 characters of the same question.\n",
        "\n",
        "  In other words, if `X[0]` equals `[25, 44,  2,  1,  9, 13, ...]`, then `Y[0]` equals `[44, 2, 1, 9, 13, ...]`."
      ]
    },
    {
      "cell_type": "code",
      "source": [
        "data[:, 1:].shape"
      ],
      "metadata": {
        "colab": {
          "base_uri": "https://localhost:8080/"
        },
        "id": "YQC4II8czI9z",
        "outputId": "382a7c9e-5537-4c24-94e3-def4577e9170"
      },
      "execution_count": 35,
      "outputs": [
        {
          "output_type": "execute_result",
          "data": {
            "text/plain": [
              "(1400000, 99)"
            ]
          },
          "metadata": {},
          "execution_count": 35
        }
      ]
    },
    {
      "cell_type": "code",
      "source": [
        ""
      ],
      "metadata": {
        "id": "9AW15eTfzJWZ"
      },
      "execution_count": 35,
      "outputs": []
    },
    {
      "cell_type": "code",
      "source": [
        ""
      ],
      "metadata": {
        "id": "cbM7aQl_zJZz"
      },
      "execution_count": 35,
      "outputs": []
    },
    {
      "cell_type": "code",
      "source": [
        ""
      ],
      "metadata": {
        "id": "vhFQ7wXczJcp"
      },
      "execution_count": 35,
      "outputs": []
    },
    {
      "cell_type": "code",
      "source": [
        ""
      ],
      "metadata": {
        "id": "T03kSuMwzJfZ"
      },
      "execution_count": 35,
      "outputs": []
    },
    {
      "cell_type": "markdown",
      "metadata": {
        "id": "GaaiMqB2dqX2"
      },
      "source": [
        "## Part 5: Language Modeling\n",
        "\n",
        "We will now build a character-level RNN language model that can learn from the given data.\n",
        "\n",
        "**Questions:**\n",
        "\n",
        "17.  Build a Sequential model `model` with the following three layers:\n",
        "  * Embedding layer (`tensorflow.keras.layers.Embedding(...)`) with output dimension `256`. Use `mask_zero=True` since we zero-padded the input, and set `input_length=99` and `input_dim=64` to match the dimensions of X and the number of possible values that features in X can take.\n",
        "  * LSTM layer with hidden state dimension `1024`. Use `return_sequences=True` to make the layer output a vector for every time step.\n",
        "  * Fully-connected (`Dense(64, ...)`) layer with softmax activation applied to each LSTM output.\n",
        "\n",
        "    Hint: Use `model.input_shape`, `model.output_shape`, and `model.summary()` to make sure your layer shapes are correct.\n",
        "\n",
        "18. Briefly explain why we used `input_length=99` and `input_dim=64` in the question above.\n",
        "\n",
        "19. Compile the model with loss function `'sparse_categorical_crossentropy'` and Adam optimizer. Examine the model's layers with `model.summary()`. How do you interpret the output of the final layer?"
      ]
    },
    {
      "cell_type": "markdown",
      "source": [
        "---\n",
        "Q- 17\n",
        "\n",
        "---"
      ],
      "metadata": {
        "id": "OksRg-P8zJiK"
      }
    },
    {
      "cell_type": "code",
      "source": [
        ""
      ],
      "metadata": {
        "id": "tkO6LMYq-aLQ"
      },
      "execution_count": 35,
      "outputs": []
    },
    {
      "cell_type": "code",
      "source": [
        "from tensorflow.keras import Sequential\n",
        "from tensorflow.keras import layers"
      ],
      "metadata": {
        "id": "_R99H2iS-aT4"
      },
      "execution_count": 36,
      "outputs": []
    },
    {
      "cell_type": "code",
      "source": [
        "model= Sequential()\n",
        "model.add(layers.Embedding( input_dim= 64, output_dim= 256,input_length= 99, mask_zero= True))\n",
        "# Add LSTM Layer with 1024 hidden units\n",
        "model.add(layers.LSTM(1024, return_sequences= True))\n",
        "# Add a Dense Layer\n",
        "model.add(layers.Dense(64, activation='softmax'))"
      ],
      "metadata": {
        "id": "1r6pHiRdzJnJ"
      },
      "execution_count": 37,
      "outputs": []
    },
    {
      "cell_type": "code",
      "source": [
        "model.input_shape , model.output_shape"
      ],
      "metadata": {
        "colab": {
          "base_uri": "https://localhost:8080/"
        },
        "id": "kEsVHvntJGkr",
        "outputId": "760dc7ee-4d10-44cc-9f16-e7b95caea86e"
      },
      "execution_count": 38,
      "outputs": [
        {
          "output_type": "execute_result",
          "data": {
            "text/plain": [
              "((None, 99), (None, 99, 64))"
            ]
          },
          "metadata": {},
          "execution_count": 38
        }
      ]
    },
    {
      "cell_type": "code",
      "source": [
        "model.summary()"
      ],
      "metadata": {
        "colab": {
          "base_uri": "https://localhost:8080/"
        },
        "id": "Ru5l6nbuJugN",
        "outputId": "c74d42c7-8869-4b48-d66c-ee41e5b06fa8"
      },
      "execution_count": 39,
      "outputs": [
        {
          "output_type": "stream",
          "name": "stdout",
          "text": [
            "Model: \"sequential\"\n",
            "_________________________________________________________________\n",
            " Layer (type)                Output Shape              Param #   \n",
            "=================================================================\n",
            " embedding (Embedding)       (None, 99, 256)           16384     \n",
            "                                                                 \n",
            " lstm (LSTM)                 (None, 99, 1024)          5246976   \n",
            "                                                                 \n",
            " dense (Dense)               (None, 99, 64)            65600     \n",
            "                                                                 \n",
            "=================================================================\n",
            "Total params: 5,328,960\n",
            "Trainable params: 5,328,960\n",
            "Non-trainable params: 0\n",
            "_________________________________________________________________\n"
          ]
        }
      ]
    },
    {
      "cell_type": "markdown",
      "source": [
        "---\n",
        "Q- 18\n",
        "\n",
        "---"
      ],
      "metadata": {
        "id": "qzURkfpbJui-"
      }
    },
    {
      "cell_type": "markdown",
      "source": [
        "#####  We have used the input length 99, as we want the input to be always one less then the output"
      ],
      "metadata": {
        "id": "AXAK9Z74Jul9"
      }
    },
    {
      "cell_type": "code",
      "source": [
        ""
      ],
      "metadata": {
        "id": "7o7RXjU7M8yP"
      },
      "execution_count": 39,
      "outputs": []
    },
    {
      "cell_type": "code",
      "source": [
        "model.compile(loss='sparse_categorical_crossentropy', optimizer='adam')"
      ],
      "metadata": {
        "id": "xkRjoYQQM7GG"
      },
      "execution_count": 40,
      "outputs": []
    },
    {
      "cell_type": "code",
      "source": [
        "model.summary()"
      ],
      "metadata": {
        "colab": {
          "base_uri": "https://localhost:8080/"
        },
        "id": "AEzCcWHEOt8N",
        "outputId": "da26a4b7-9980-4438-ec11-fd645597c9bd"
      },
      "execution_count": 41,
      "outputs": [
        {
          "output_type": "stream",
          "name": "stdout",
          "text": [
            "Model: \"sequential\"\n",
            "_________________________________________________________________\n",
            " Layer (type)                Output Shape              Param #   \n",
            "=================================================================\n",
            " embedding (Embedding)       (None, 99, 256)           16384     \n",
            "                                                                 \n",
            " lstm (LSTM)                 (None, 99, 1024)          5246976   \n",
            "                                                                 \n",
            " dense (Dense)               (None, 99, 64)            65600     \n",
            "                                                                 \n",
            "=================================================================\n",
            "Total params: 5,328,960\n",
            "Trainable params: 5,328,960\n",
            "Non-trainable params: 0\n",
            "_________________________________________________________________\n"
          ]
        }
      ]
    },
    {
      "cell_type": "code",
      "source": [
        ""
      ],
      "metadata": {
        "id": "Cb-Sy3dTJuuF"
      },
      "execution_count": null,
      "outputs": []
    },
    {
      "cell_type": "markdown",
      "metadata": {
        "id": "CTe5eB1qhY1e"
      },
      "source": [
        "##  Part 6: Generating questions\n",
        "\n",
        "Now we will train our language model and use it to generate Yahoo! Answers questions.\n",
        "\n",
        "We can generate a question using our model as follows:\n",
        "* Start with the beginning-of-string token `'^'` as the initial input. Hint: Use `tokenizer.word_index`.\n",
        "* Predict the distribution of the next character using `model.predict(...)` and use the distribution to select the next character in the question with `np.random.choice(..., p=...)`. Hint: Use `tokenizer.index_word`.\n",
        "* Repeat the process until the end-of-string token `'$'` is predicted or until 100 characters are generated\n",
        "* Remove `^` from the beginning and `$` from the end of the generated string.\n",
        "\n",
        "**Questions:**\n",
        "20. Make a function `generate_text()` that returns the string of a question generated by the model, using the above procedure. What does its output look like (before the model is trained)?\n",
        "21. Train the model on X and Y with `validation_split=0.1`. (recommended setting: `batch_size=64`). Generate and print out a question using the model every 5000 minibatches, using the Keras Callback in the code provided below. What do you see?\n",
        "22. Train the model for at least one epoch. Verify that the generated texts look interesting after training. (As a bonus you may train for more epochs, e.g. using EarlyStopping, but this will take a significant amount of time.)\n",
        "23. Print out 20 randomly generated questions from your final model.\n",
        "24. Use https://www.tweetgen.com/create/tweet.html with your best generated question to format it as a tweet, and post it to the class Slack channel.\n",
        "\n",
        "You can now fool your family and friends with your best randomly-generated Yahoo! Answers question!\n",
        "\n",
        "25. (BONUS) For an extra challenge, you can try implementing some well-known improvements to neural text generation models, using the paper [Holtzman et al. (2020) The Curious Case of Neural Text Degeneration](https://arxiv.org/pdf/1904.09751.pdf)\n",
        "  * **Temperature**:  For temperature parameter $t$, at each step we sample the character next $c$ using probabilities proportional to $p_c^{1/t}$, where $p_c$ is the probability of sampling character $c$ when not using temperature. You may parameter `temperature=` to `generate_text()`, and should see that passing values less than `1` generates questions that look very clean, while values greater than `1` makes chaotic-looking questions. (see p. 6 in the paper)\n",
        "  * **Nucleus Sampling**: See pp. 4-5 in the paper for the definition of this method."
      ]
    },
    {
      "cell_type": "markdown",
      "source": [
        "---\n",
        "### Part -6\n",
        "---"
      ],
      "metadata": {
        "id": "93wyRfwQ-W8I"
      }
    },
    {
      "cell_type": "code",
      "source": [
        "tokenizer.word_index['^']"
      ],
      "metadata": {
        "colab": {
          "base_uri": "https://localhost:8080/"
        },
        "id": "fqwyj8dXPCIf",
        "outputId": "9cec9a9f-fc49-41e2-f44b-7570fc02bbc5"
      },
      "execution_count": 42,
      "outputs": [
        {
          "output_type": "execute_result",
          "data": {
            "text/plain": [
              "19"
            ]
          },
          "metadata": {},
          "execution_count": 42
        }
      ]
    },
    {
      "cell_type": "markdown",
      "source": [
        "---\n",
        "Q- 20 \n",
        "\n",
        "---"
      ],
      "metadata": {
        "id": "WfDQIdV9Q0oc"
      }
    },
    {
      "cell_type": "code",
      "source": [
        "text=[]\n",
        "def generate_text():\n",
        "  for i in range(0, 100):\n",
        "    distribution= model.predict()\n",
        "    text.append(np.random.choice(distribution, p= tokenizer.word_index))\n",
        "\n",
        "\n",
        "  return re.sub(r\"[^A-Za-z.,!?@:;' ]\", '', text)"
      ],
      "metadata": {
        "id": "G0eNuE-5BSX1"
      },
      "execution_count": null,
      "outputs": []
    },
    {
      "cell_type": "markdown",
      "source": [
        "---\n",
        "Q- 21\n",
        "\n",
        "---"
      ],
      "metadata": {
        "id": "MXDYZv5fQ-50"
      }
    },
    {
      "cell_type": "code",
      "source": [
        "model.fit(X,y, validation_split=0.1, batch_size=64)"
      ],
      "metadata": {
        "id": "rqSggYekIlw_"
      },
      "execution_count": null,
      "outputs": []
    },
    {
      "cell_type": "markdown",
      "source": [
        "---\n",
        "Q- 23\n",
        "\n",
        "---"
      ],
      "metadata": {
        "id": "lBGa7QstRZH1"
      }
    },
    {
      "cell_type": "code",
      "execution_count": null,
      "metadata": {
        "id": "eQadEXGpdK5o"
      },
      "outputs": [],
      "source": [
        "# CODE FOR QUESTION 21\n",
        "from tensorflow.keras.callbacks import Callback\n",
        "\n",
        "class GenerateTextCB(Callback):\n",
        "  def on_train_batch_end(self, batch, logs=None):\n",
        "    if batch % 5000 == 0:\n",
        "      print()\n",
        "      print(f'Generated text for training batch {batch}:')\n",
        "  \n",
        "      print(generate_text())\n",
        "      print()"
      ]
    },
    {
      "cell_type": "code",
      "source": [
        "for i in range(0, 20):\n",
        "  return generate_text()"
      ],
      "metadata": {
        "id": "OzPyATemQZQN"
      },
      "execution_count": null,
      "outputs": []
    }
  ],
  "metadata": {
    "accelerator": "GPU",
    "colab": {
      "collapsed_sections": [],
      "name": "RNN exercise - Yahoo! Answers.ipynb",
      "provenance": [],
      "include_colab_link": true
    },
    "kernelspec": {
      "display_name": "Python 3",
      "name": "python3"
    }
  },
  "nbformat": 4,
  "nbformat_minor": 0
}